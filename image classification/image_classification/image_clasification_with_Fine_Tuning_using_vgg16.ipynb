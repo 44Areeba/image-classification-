{
  "cells": [
    {
      "cell_type": "markdown",
      "metadata": {
        "id": "5afZC-YgtP8z"
      },
      "source": [
        "\n",
        "# Fine-Tuning\n"
      ]
    },
    {
      "cell_type": "markdown",
      "metadata": {
        "id": "ksIof2DptP81"
      },
      "source": [
        "## Introduction\n",
        "\n",
        "\n",
        "\n",
        "In this shows how to do both Transfer Learning and Fine-Tuning using the Keras API for Tensorflow.\n",
        "\n"
      ]
    },
    {
      "cell_type": "markdown",
      "metadata": {
        "id": "aYd60FHAtP82"
      },
      "source": [
        "## Flowchart\n",
        "\n",
        "The idea is to re-use a pre-trained model, in this case the VGG16 model, which consists of several convolutional layers (actually blocks of multiple convolutional layers), followed by some fully-connected / dense layers and then a softmax output layer for the classification.\n",
        "\n",
        "The dense layers are responsible for combining features from the convolutional layers and this helps in the final classification. So when the VGG16 model is used on another dataset we may have to replace all the dense layers. In this case we add another dense-layer and a dropout-layer to avoid overfitting.\n",
        "\n",
        "The difference between Transfer Learning and Fine-Tuning is that in Transfer Learning we only optimize the weights of the new classification layers we have added, while we keep the weights of the original VGG16 model. In Fine-Tuning we optimize both the weights of the new classification layers we have added, as well as some or all of the layers from the VGG16 model."
      ]
    },
    {
      "cell_type": "markdown",
      "metadata": {
        "id": "Wc0n7tOEtP82"
      },
      "source": [
        "![Flowchart of Transfer Learning & Fine-Tuning](https://github.com/Hvass-Labs/TensorFlow-Tutorials/blob/master/images/10_transfer_learning_flowchart.png?raw=1)"
      ]
    },
    {
      "cell_type": "markdown",
      "metadata": {
        "id": "rLhnRj-dtP82"
      },
      "source": [
        "## Imports"
      ]
    },
    {
      "cell_type": "code",
      "execution_count": null,
      "metadata": {
        "id": "Athbtp0EtP82"
      },
      "outputs": [],
      "source": [
        "%matplotlib inline\n",
        "import matplotlib.pyplot as plt\n",
        "import PIL\n",
        "import tensorflow as tf\n",
        "import numpy as np\n",
        "import os"
      ]
    },
    {
      "cell_type": "markdown",
      "metadata": {
        "id": "X59uEcIttP83"
      },
      "source": [
        "These are the imports from the Keras API."
      ]
    },
    {
      "cell_type": "code",
      "execution_count": null,
      "metadata": {
        "id": "ta8UpSHjtP83"
      },
      "outputs": [],
      "source": [
        "from tensorflow.keras.models import Model, Sequential\n",
        "from tensorflow.keras.layers import Dense, Flatten, Dropout\n",
        "from tensorflow.keras.applications import VGG16\n",
        "from tensorflow.keras.applications.vgg16 import preprocess_input, decode_predictions\n",
        "from tensorflow.keras.preprocessing.image import ImageDataGenerator\n",
        "from tensorflow.keras.optimizers import Adam, RMSprop"
      ]
    },
    {
      "cell_type": "markdown",
      "metadata": {
        "id": "b0JalCMftP84"
      },
      "source": [
        "This was developed using Python 3.6 and TensorFlow version:"
      ]
    },
    {
      "cell_type": "code",
      "execution_count": null,
      "metadata": {
        "scrolled": true,
        "id": "Q3jMr6zHtP84",
        "outputId": "86cf57ec-e6c2-47cf-e670-1645f65c6d5d"
      },
      "outputs": [
        {
          "data": {
            "text/plain": [
              "'2.1.0'"
            ]
          },
          "execution_count": 3,
          "metadata": {},
          "output_type": "execute_result"
        }
      ],
      "source": [
        "tf.__version__"
      ]
    },
    {
      "cell_type": "markdown",
      "metadata": {
        "id": "LGAEhDpCtP85"
      },
      "source": [
        "## Helper Functions"
      ]
    },
    {
      "cell_type": "markdown",
      "metadata": {
        "id": "qaC_vbIHtP85"
      },
      "source": [
        "### Helper-function for joining a directory and list of filenames."
      ]
    },
    {
      "cell_type": "code",
      "execution_count": null,
      "metadata": {
        "id": "US_GZ4Q5tP85"
      },
      "outputs": [],
      "source": [
        "def path_join(dirname, filenames):\n",
        "    return [os.path.join(dirname, filename) for filename in filenames]"
      ]
    },
    {
      "cell_type": "markdown",
      "metadata": {
        "id": "gfYtfV-atP85"
      },
      "source": [
        "### Helper-function for plotting images"
      ]
    },
    {
      "cell_type": "markdown",
      "metadata": {
        "id": "ZpWzZW-3tP86"
      },
      "source": [
        "Function used to plot at most 9 images in a 3x3 grid, and writing the true and predicted classes below each image."
      ]
    },
    {
      "cell_type": "code",
      "execution_count": null,
      "metadata": {
        "id": "GMD2GnIStP86"
      },
      "outputs": [],
      "source": [
        "def plot_images(images, cls_true, cls_pred=None, smooth=True):\n",
        "\n",
        "    assert len(images) == len(cls_true)\n",
        "\n",
        "    # Create figure with sub-plots.\n",
        "    fig, axes = plt.subplots(3, 3)\n",
        "\n",
        "    # Adjust vertical spacing.\n",
        "    if cls_pred is None:\n",
        "        hspace = 0.3\n",
        "    else:\n",
        "        hspace = 0.6\n",
        "    fig.subplots_adjust(hspace=hspace, wspace=0.3)\n",
        "\n",
        "    # Interpolation type.\n",
        "    if smooth:\n",
        "        interpolation = 'spline16'\n",
        "    else:\n",
        "        interpolation = 'nearest'\n",
        "\n",
        "    for i, ax in enumerate(axes.flat):\n",
        "        # There may be less than 9 images, ensure it doesn't crash.\n",
        "        if i < len(images):\n",
        "            # Plot image.\n",
        "            ax.imshow(images[i],\n",
        "                      interpolation=interpolation)\n",
        "\n",
        "            # Name of the true class.\n",
        "            cls_true_name = class_names[cls_true[i]]\n",
        "\n",
        "            # Show true and predicted classes.\n",
        "            if cls_pred is None:\n",
        "                xlabel = \"True: {0}\".format(cls_true_name)\n",
        "            else:\n",
        "                # Name of the predicted class.\n",
        "                cls_pred_name = class_names[cls_pred[i]]\n",
        "\n",
        "                xlabel = \"True: {0}\\nPred: {1}\".format(cls_true_name, cls_pred_name)\n",
        "\n",
        "            # Show the classes as the label on the x-axis.\n",
        "            ax.set_xlabel(xlabel)\n",
        "\n",
        "        # Remove ticks from the plot.\n",
        "        ax.set_xticks([])\n",
        "        ax.set_yticks([])\n",
        "\n",
        "    # Ensure the plot is shown correctly with multiple plots\n",
        "    # in a single Notebook cell.\n",
        "    plt.show()"
      ]
    },
    {
      "cell_type": "markdown",
      "metadata": {
        "id": "Nminx8zutP86"
      },
      "source": [
        "### Helper-function for printing confusion matrix"
      ]
    },
    {
      "cell_type": "code",
      "execution_count": null,
      "metadata": {
        "id": "CwUC0cx5tP86"
      },
      "outputs": [],
      "source": [
        "# Import a function from sklearn to calculate the confusion-matrix.\n",
        "from sklearn.metrics import confusion_matrix\n",
        "\n",
        "def print_confusion_matrix(cls_pred):\n",
        "    # cls_pred is an array of the predicted class-number for\n",
        "    # all images in the test-set.\n",
        "\n",
        "    # Get the confusion matrix using sklearn.\n",
        "    cm = confusion_matrix(y_true=cls_test,  # True class for test-set.\n",
        "                          y_pred=cls_pred)  # Predicted class.\n",
        "\n",
        "    print(\"Confusion matrix:\")\n",
        "\n",
        "    # Print the confusion matrix as text.\n",
        "    print(cm)\n",
        "\n",
        "    # Print the class-names for easy reference.\n",
        "    for i, class_name in enumerate(class_names):\n",
        "        print(\"({0}) {1}\".format(i, class_name))"
      ]
    },
    {
      "cell_type": "markdown",
      "metadata": {
        "id": "_8GP_4SWtP86"
      },
      "source": [
        "### Helper-function for plotting example errors\n",
        "\n",
        "Function for plotting examples of images from the test-set that have been mis-classified."
      ]
    },
    {
      "cell_type": "code",
      "execution_count": null,
      "metadata": {
        "id": "RlqSIEcNtP86"
      },
      "outputs": [],
      "source": [
        "def plot_example_errors(cls_pred):\n",
        "    # cls_pred is an array of the predicted class-number for\n",
        "    # all images in the test-set.\n",
        "\n",
        "    # Boolean array whether the predicted class is incorrect.\n",
        "    incorrect = (cls_pred != cls_test)\n",
        "\n",
        "    # Get the file-paths for images that were incorrectly classified.\n",
        "    image_paths = np.array(image_paths_test)[incorrect]\n",
        "\n",
        "    # Load the first 9 images.\n",
        "    images = load_images(image_paths=image_paths[0:9])\n",
        "\n",
        "    # Get the predicted classes for those images.\n",
        "    cls_pred = cls_pred[incorrect]\n",
        "\n",
        "    # Get the true classes for those images.\n",
        "    cls_true = cls_test[incorrect]\n",
        "\n",
        "    # Plot the 9 images we have loaded and their corresponding classes.\n",
        "    # We have only loaded 9 images so there is no need to slice those again.\n",
        "    plot_images(images=images,\n",
        "                cls_true=cls_true[0:9],\n",
        "                cls_pred=cls_pred[0:9])"
      ]
    },
    {
      "cell_type": "markdown",
      "metadata": {
        "id": "vS3PGIfMtP86"
      },
      "source": [
        "Function for calculating the predicted classes of the entire test-set and calling the above function to plot a few examples of mis-classified images."
      ]
    },
    {
      "cell_type": "code",
      "execution_count": null,
      "metadata": {
        "id": "Xlh26PVjtP87"
      },
      "outputs": [],
      "source": [
        "def example_errors():\n",
        "    # The Keras data-generator for the test-set must be reset\n",
        "    # before processing. This is because the generator will loop\n",
        "    # infinitely and keep an internal index into the dataset.\n",
        "    # So it might start in the middle of the test-set if we do\n",
        "    # not reset it first. This makes it impossible to match the\n",
        "    # predicted classes with the input images.\n",
        "    # If we reset the generator, then it always starts at the\n",
        "    # beginning so we know exactly which input-images were used.\n",
        "    generator_test.reset()\n",
        "\n",
        "    # Predict the classes for all images in the test-set.\n",
        "    y_pred = new_model.predict(generator_test, steps=steps_test)\n",
        "\n",
        "    # Convert the predicted classes from arrays to integers.\n",
        "    cls_pred = np.argmax(y_pred,axis=1)\n",
        "\n",
        "    # Plot examples of mis-classified images.\n",
        "    plot_example_errors(cls_pred)\n",
        "\n",
        "    # Print the confusion matrix.\n",
        "    print_confusion_matrix(cls_pred)"
      ]
    },
    {
      "cell_type": "markdown",
      "metadata": {
        "id": "ybbZ_ZFstP87"
      },
      "source": [
        "### Helper-function for loading images\n",
        "\n",
        "The data-set is not loaded into memory, instead it has a list of the files for the images in the training-set and another list of the files for the images in the test-set. This helper-function loads some image-files."
      ]
    },
    {
      "cell_type": "code",
      "execution_count": null,
      "metadata": {
        "id": "IHSNQj-xtP87"
      },
      "outputs": [],
      "source": [
        "def load_images(image_paths):\n",
        "    # Load the images from disk.\n",
        "    images = [plt.imread(path) for path in image_paths]\n",
        "\n",
        "    # Convert to a numpy array and return it.\n",
        "    return np.asarray(images)"
      ]
    },
    {
      "cell_type": "markdown",
      "metadata": {
        "id": "y4vkKbFgtP87"
      },
      "source": [
        "### Helper-function for plotting training history\n",
        "\n",
        "This plots the classification accuracy and loss-values recorded during training with the Keras API."
      ]
    },
    {
      "cell_type": "code",
      "execution_count": null,
      "metadata": {
        "id": "ApU2NpA7tP87"
      },
      "outputs": [],
      "source": [
        "def plot_training_history(history):\n",
        "    # Get the classification accuracy and loss-value\n",
        "    # for the training-set.\n",
        "    acc = history.history['categorical_accuracy']\n",
        "    loss = history.history['loss']\n",
        "\n",
        "    # Get it for the validation-set (we only use the test-set).\n",
        "    val_acc = history.history['val_categorical_accuracy']\n",
        "    val_loss = history.history['val_loss']\n",
        "\n",
        "    # Plot the accuracy and loss-values for the training-set.\n",
        "    plt.plot(acc, linestyle='-', color='b', label='Training Acc.')\n",
        "    plt.plot(loss, 'o', color='b', label='Training Loss')\n",
        "\n",
        "    # Plot it for the test-set.\n",
        "    plt.plot(val_acc, linestyle='--', color='r', label='Test Acc.')\n",
        "    plt.plot(val_loss, 'o', color='r', label='Test Loss')\n",
        "\n",
        "    # Plot title and legend.\n",
        "    plt.title('Training and Test Accuracy')\n",
        "    plt.legend()\n",
        "\n",
        "    # Ensure the plot shows correctly.\n",
        "    plt.show()"
      ]
    },
    {
      "cell_type": "code",
      "source": [
        "import pathlib\n",
        "\n",
        "dataset = \"/content/drive/MyDrive/ChartQA Dataset/CQA/train/png\"\n",
        "data_dir = pathlib.Path(data_dir).with_suffix('')"
      ],
      "metadata": {
        "id": "575hNovWuYIy"
      },
      "execution_count": null,
      "outputs": []
    },
    {
      "cell_type": "code",
      "source": [
        "image_count = len(list(data_dir.glob('*/*.jpg')))\n",
        "print(image_count)"
      ],
      "metadata": {
        "id": "HWfx_6zGufE0"
      },
      "execution_count": null,
      "outputs": []
    },
    {
      "cell_type": "code",
      "source": [
        "roses = list(data_dir.glob('line chart/*'))\n",
        "PIL.Image.open(str(roses[0]))"
      ],
      "metadata": {
        "id": "4nQs3wE_ufHp"
      },
      "execution_count": null,
      "outputs": []
    },
    {
      "cell_type": "code",
      "source": [
        "PIL.Image.open(str(line chart[1]))"
      ],
      "metadata": {
        "id": "CBuiD72uufKc"
      },
      "execution_count": null,
      "outputs": []
    },
    {
      "cell_type": "code",
      "source": [
        "tulips = list(data_dir.glob('bar chart/*'))\n",
        "PIL.Image.open(str(tulips[0]))"
      ],
      "metadata": {
        "id": "rQ2bDQbVusm3"
      },
      "execution_count": null,
      "outputs": []
    },
    {
      "cell_type": "code",
      "source": [
        "PIL.Image.open(str(bar chart[1]))"
      ],
      "metadata": {
        "id": "OwFKOuSvusp-"
      },
      "execution_count": null,
      "outputs": []
    },
    {
      "cell_type": "code",
      "source": [],
      "metadata": {
        "id": "gACrDaEFustF"
      },
      "execution_count": null,
      "outputs": []
    },
    {
      "cell_type": "code",
      "source": [],
      "metadata": {
        "id": "FVVl1Ieiusv8"
      },
      "execution_count": null,
      "outputs": []
    },
    {
      "cell_type": "code",
      "source": [],
      "metadata": {
        "id": "SmmlR4fdus5V"
      },
      "execution_count": null,
      "outputs": []
    },
    {
      "cell_type": "markdown",
      "metadata": {
        "id": "0E_xx32ftP88"
      },
      "source": [
        "## Pre-Trained Model: VGG16\n",
        "\n",
        "The following creates an instance of the pre-trained VGG16 model using the Keras API. This automatically downloads the required files if you don't have them already. Note how simple this is in Keras compared to Tutorial #08.\n",
        "\n",
        "The VGG16 model contains a convolutional part and a fully-connected (or dense) part which is used for classification. If `include_top=True` then the whole VGG16 model is downloaded which is about 528 MB. If `include_top=False` then only the convolutional part of the VGG16 model is downloaded which is just 57 MB.\n",
        "\n",
        "We will try and use the pre-trained model for predicting the class of some images in our new dataset, so we have to download the full model, but if you have a slow internet connection, then you can modify the code below to use the smaller pre-trained model without the classification layers."
      ]
    },
    {
      "cell_type": "code",
      "execution_count": null,
      "metadata": {
        "scrolled": true,
        "id": "2n5ICFr3tP88"
      },
      "outputs": [],
      "source": [
        "model = VGG16(include_top=True, weights='imagenet')"
      ]
    },
    {
      "cell_type": "markdown",
      "metadata": {
        "id": "gGXin_x6tP88"
      },
      "source": [
        "## Input Pipeline\n",
        "\n",
        "The Keras API has its own way of creating the input pipeline for training a model using files.\n",
        "\n",
        "First we need to know the shape of the tensors expected as input by the pre-trained VGG16 model. In this case it is images of shape 224 x 224 x 3."
      ]
    },
    {
      "cell_type": "code",
      "execution_count": null,
      "metadata": {
        "id": "Dfh9eSGFtP88",
        "outputId": "bf045c8a-8fc1-48af-97af-5d4ff94533b6"
      },
      "outputs": [
        {
          "data": {
            "text/plain": [
              "(224, 224)"
            ]
          },
          "execution_count": 16,
          "metadata": {},
          "output_type": "execute_result"
        }
      ],
      "source": [
        "input_shape = model.layers[0].output_shape[0][1:3]\n",
        "input_shape"
      ]
    },
    {
      "cell_type": "markdown",
      "metadata": {
        "id": "99kEHSMBtP89"
      },
      "source": [
        "Keras uses a so-called data-generator for inputting data into the neural network, which will loop over the data for eternity.\n",
        "\n",
        "We have a small training-set so it helps to artificially inflate its size by making various transformations to the images. We use a built-in data-generator that can make these random transformations. This is also called an augmented dataset."
      ]
    },
    {
      "cell_type": "code",
      "execution_count": null,
      "metadata": {
        "id": "GL8zXzSItP9B"
      },
      "outputs": [],
      "source": [
        "datagen_train = ImageDataGenerator(\n",
        "      rescale=1./255,\n",
        "      rotation_range=180,\n",
        "      width_shift_range=0.1,\n",
        "      height_shift_range=0.1,\n",
        "      shear_range=0.1,\n",
        "      zoom_range=[0.9, 1.5],\n",
        "      horizontal_flip=True,\n",
        "      vertical_flip=True,\n",
        "      fill_mode='nearest')"
      ]
    },
    {
      "cell_type": "markdown",
      "metadata": {
        "id": "tFFB3c5gtP9B"
      },
      "source": [
        "We also need a data-generator for the test-set, but this should not do any transformations to the images because we want to know the exact classification accuracy on those specific images. So we just rescale the pixel-values so they are between 0.0 and 1.0 because this is expected by the VGG16 model."
      ]
    },
    {
      "cell_type": "code",
      "execution_count": null,
      "metadata": {
        "id": "sCUL_glQtP9B"
      },
      "outputs": [],
      "source": [
        "datagen_test = ImageDataGenerator(rescale=1./255)"
      ]
    },
    {
      "cell_type": "markdown",
      "metadata": {
        "id": "kqQBTc5mtP9B"
      },
      "source": [
        "The data-generators will return batches of images. Because the VGG16 model is so large, the batch-size cannot be too large, otherwise you will run out of RAM on the GPU."
      ]
    },
    {
      "cell_type": "code",
      "execution_count": null,
      "metadata": {
        "id": "oArdVvy5tP9B"
      },
      "outputs": [],
      "source": [
        "batch_size = 20"
      ]
    },
    {
      "cell_type": "markdown",
      "metadata": {
        "id": "CfPr9-_ttP9B"
      },
      "source": [
        "We can save the randomly transformed images during training, so as to inspect whether they have been overly distorted, so we have to adjust the parameters for the data-generator above."
      ]
    },
    {
      "cell_type": "code",
      "execution_count": null,
      "metadata": {
        "id": "RAOYXhmStP9B"
      },
      "outputs": [],
      "source": [
        "if True:\n",
        "    save_to_dir = None\n",
        "else:\n",
        "    save_to_dir='augmented_images/'"
      ]
    },
    {
      "cell_type": "markdown",
      "metadata": {
        "id": "XvcQpJk4tP9C"
      },
      "source": [
        "Now we create the actual data-generator that will read files from disk, resize the images and return a random batch.\n",
        "\n",
        "It is somewhat awkward that the construction of the data-generator is split into these two steps, but it is probably because there are different kinds of data-generators available for different data-types (images, text, etc.) and sources (memory or disk)."
      ]
    },
    {
      "cell_type": "code",
      "execution_count": null,
      "metadata": {
        "scrolled": true,
        "id": "VeHDLBiCtP9C",
        "outputId": "42000df1-f441-49ae-d384-df0ddf68d337"
      },
      "outputs": [
        {
          "name": "stdout",
          "output_type": "stream",
          "text": [
            "Found 4170 images belonging to 3 classes.\n"
          ]
        }
      ],
      "source": [
        "generator_train = datagen_train.flow_from_directory(directory=train_dir,\n",
        "                                                    target_size=input_shape,\n",
        "                                                    batch_size=batch_size,\n",
        "                                                    shuffle=True,\n",
        "                                                    save_to_dir=save_to_dir)"
      ]
    },
    {
      "cell_type": "markdown",
      "metadata": {
        "id": "PYEIwtw4tP9C"
      },
      "source": [
        "The data-generator for the test-set should not transform and shuffle the images."
      ]
    },
    {
      "cell_type": "code",
      "execution_count": null,
      "metadata": {
        "id": "ioszhyUWtP9C",
        "outputId": "ec073b9d-7b9c-4c03-d3d1-6dc1ae963e1a"
      },
      "outputs": [
        {
          "name": "stdout",
          "output_type": "stream",
          "text": [
            "Found 530 images belonging to 3 classes.\n"
          ]
        }
      ],
      "source": [
        "generator_test = datagen_test.flow_from_directory(directory=test_dir,\n",
        "                                                  target_size=input_shape,\n",
        "                                                  batch_size=batch_size,\n",
        "                                                  shuffle=False)"
      ]
    },
    {
      "cell_type": "markdown",
      "metadata": {
        "id": "LjddgCRStP9C"
      },
      "source": [
        "Because the data-generators will loop for eternity, we need to specify the number of steps to perform during evaluation and prediction on the test-set. Because our test-set contains 530 images and the batch-size is set to 20, the number of steps is 26.5 for one full processing of the test-set. This is why we need to reset the data-generator's counter in the `example_errors()` function above, so it always starts processing from the beginning of the test-set.\n",
        "\n",
        "This is another slightly awkward aspect of the Keras API which could perhaps be improved."
      ]
    },
    {
      "cell_type": "code",
      "execution_count": null,
      "metadata": {
        "id": "NLTwt1YktP9C",
        "outputId": "d4345a8d-ee12-48dd-8820-2346ab4d1e8b"
      },
      "outputs": [
        {
          "data": {
            "text/plain": [
              "26.5"
            ]
          },
          "execution_count": 23,
          "metadata": {},
          "output_type": "execute_result"
        }
      ],
      "source": [
        "steps_test = generator_test.n / batch_size\n",
        "steps_test"
      ]
    },
    {
      "cell_type": "markdown",
      "metadata": {
        "id": "5t9AxD4ttP9C"
      },
      "source": [
        "Get the file-paths for all the images in the training- and test-sets."
      ]
    },
    {
      "cell_type": "code",
      "execution_count": null,
      "metadata": {
        "id": "zS0PEW0otP9D"
      },
      "outputs": [],
      "source": [
        "image_paths_train = path_join(train_dir, generator_train.filenames)\n",
        "image_paths_test = path_join(test_dir, generator_test.filenames)"
      ]
    },
    {
      "cell_type": "markdown",
      "metadata": {
        "id": "0a9cWuWhtP9D"
      },
      "source": [
        "Get the class-numbers for all the images in the training- and test-sets."
      ]
    },
    {
      "cell_type": "code",
      "execution_count": null,
      "metadata": {
        "id": "qBxgkNd2tP9D"
      },
      "outputs": [],
      "source": [
        "cls_train = generator_train.classes\n",
        "cls_test = generator_test.classes"
      ]
    },
    {
      "cell_type": "markdown",
      "metadata": {
        "id": "pj76uvTMtP9D"
      },
      "source": [
        "Get the class-names for the dataset."
      ]
    },
    {
      "cell_type": "markdown",
      "metadata": {
        "id": "yxwforeHtP9D"
      },
      "source": [
        "Get the number of classes for the dataset."
      ]
    },
    {
      "cell_type": "code",
      "execution_count": null,
      "metadata": {
        "id": "T3RoouI6tP9E",
        "outputId": "548b560d-4595-4184-f61b-7ef3134c2e82"
      },
      "outputs": [
        {
          "data": {
            "text/plain": [
              "3"
            ]
          },
          "execution_count": 27,
          "metadata": {},
          "output_type": "execute_result"
        }
      ],
      "source": [
        "num_classes = generator_train.num_classes\n",
        "num_classes"
      ]
    },
    {
      "cell_type": "markdown",
      "metadata": {
        "id": "f_TNmsjgtP9F"
      },
      "source": [
        "### Class Weights\n",
        "\n",
        "The Knifey-Spoony dataset is quite imbalanced because it has few images of forks, more images of knives, and many more images of spoons. This can cause a problem during training because the neural network will be shown many more examples of spoons than forks, so it might become better at recognizing spoons.\n",
        "\n",
        "Here we use scikit-learn to calculate weights that will properly balance the dataset. These weights are applied to the gradient for each image in the batch during training, so as to scale their influence on the overall gradient for the batch."
      ]
    },
    {
      "cell_type": "code",
      "execution_count": null,
      "metadata": {
        "id": "UfbN_2jNtP9F"
      },
      "outputs": [],
      "source": [
        "from sklearn.utils.class_weight import compute_class_weight"
      ]
    },
    {
      "cell_type": "code",
      "execution_count": null,
      "metadata": {
        "id": "3ctKZf1VtP9F"
      },
      "outputs": [],
      "source": [
        "class_weight = compute_class_weight(class_weight='balanced',\n",
        "                                    classes=np.unique(cls_train),\n",
        "                                    y=cls_train)"
      ]
    },
    {
      "cell_type": "code",
      "execution_count": null,
      "metadata": {
        "id": "GMYWzuGFtP9F",
        "outputId": "4c94faca-189d-4e35-adb2-6b8e4815b5bc"
      },
      "outputs": [
        {
          "data": {
            "text/plain": [
              "array([1.39839034, 1.14876033, 0.70701933])"
            ]
          },
          "execution_count": 31,
          "metadata": {},
          "output_type": "execute_result"
        }
      ],
      "source": [
        "class_weight"
      ]
    },
    {
      "cell_type": "markdown",
      "metadata": {
        "id": "5TVp3GY_tP9G"
      },
      "source": [
        "## Example Predictions\n",
        "\n",
        "Here we will show a few examples of using the pre-trained VGG16 model for prediction.\n",
        "\n",
        "We need a helper-function for loading and resizing an image so it can be input to the VGG16 model, as well as doing the actual prediction and showing the result."
      ]
    },
    {
      "cell_type": "code",
      "execution_count": null,
      "metadata": {
        "id": "3hyGSlbStP9G"
      },
      "outputs": [],
      "source": [
        "def predict(image_path):\n",
        "    # Load and resize the image using PIL.\n",
        "    img = PIL.Image.open(image_path)\n",
        "    img_resized = img.resize(input_shape, PIL.Image.LANCZOS)\n",
        "\n",
        "    # Plot the image.\n",
        "    plt.imshow(img_resized)\n",
        "    plt.show()\n",
        "\n",
        "    # Convert the PIL image to a numpy-array with the proper shape.\n",
        "    img_array = np.expand_dims(np.array(img_resized), axis=0)\n",
        "\n",
        "    # Use the VGG16 model to make a prediction.\n",
        "    # This outputs an array with 1000 numbers corresponding to\n",
        "    # the classes of the ImageNet-dataset.\n",
        "    pred = model.predict(img_array)\n",
        "\n",
        "    # Decode the output of the VGG16 model.\n",
        "    pred_decoded = decode_predictions(pred)[0]\n",
        "\n",
        "    # Print the predictions.\n",
        "    for code, name, score in pred_decoded:\n",
        "        print(\"{0:>6.2%} : {1}\".format(score, name))"
      ]
    },
    {
      "cell_type": "markdown",
      "metadata": {
        "id": "XiuyF4hrtP9G"
      },
      "source": [
        "We can then use the VGG16 model on a picture of a parrot which is classified as a macaw (a parrot species) with a fairly high score of 79%."
      ]
    },
    {
      "cell_type": "markdown",
      "metadata": {
        "id": "X7Tjkt_rtP9G"
      },
      "source": [
        "We can then use the VGG16 model to predict the class of one of the images in our new training-set. The VGG16 model is very confused about this image and cannot make a good classification."
      ]
    },
    {
      "cell_type": "markdown",
      "metadata": {
        "id": "lXtImOtxtP9I"
      },
      "source": [
        "We can try it for another image in our new training-set and the VGG16 model is still confused."
      ]
    },
    {
      "cell_type": "markdown",
      "metadata": {
        "id": "tImiMgvZtP9I"
      },
      "source": [
        "We can also try an image from our new test-set, and again the VGG16 model is very confused."
      ]
    },
    {
      "cell_type": "markdown",
      "metadata": {
        "id": "0DYJo1o5tP9I"
      },
      "source": [
        "## Transfer Learning\n",
        "\n",
        "The pre-trained VGG16 model was unable to classify images from the Knifey-Spoony dataset. The reason is perhaps that the VGG16 model was trained on the so-called ImageNet dataset which may not have contained many images of cutlery.\n",
        "\n",
        "The lower layers of a Convolutional Neural Network can recognize many different shapes or features in an image. It is the last few fully-connected layers that combine these featuers into classification of a whole image. So we can try and re-route the output of the last convolutional layer of the VGG16 model to a new fully-connected neural network that we create for doing classification on the Knifey-Spoony dataset.\n",
        "\n",
        "First we print a summary of the VGG16 model so we can see the names and types of its layers, as well as the shapes of the tensors flowing between the layers. This is one of the major reasons we are using the VGG16 model in this tutorial, because the Inception v3 model has so many layers that it is confusing when printed out."
      ]
    },
    {
      "cell_type": "code",
      "execution_count": null,
      "metadata": {
        "scrolled": true,
        "id": "aaSMiapttP9J",
        "outputId": "6993ec6d-252b-43f3-e441-52bc1f80fb7d"
      },
      "outputs": [
        {
          "name": "stdout",
          "output_type": "stream",
          "text": [
            "Model: \"vgg16\"\n",
            "_________________________________________________________________\n",
            "Layer (type)                 Output Shape              Param #   \n",
            "=================================================================\n",
            "input_1 (InputLayer)         [(None, 224, 224, 3)]     0         \n",
            "_________________________________________________________________\n",
            "block1_conv1 (Conv2D)        (None, 224, 224, 64)      1792      \n",
            "_________________________________________________________________\n",
            "block1_conv2 (Conv2D)        (None, 224, 224, 64)      36928     \n",
            "_________________________________________________________________\n",
            "block1_pool (MaxPooling2D)   (None, 112, 112, 64)      0         \n",
            "_________________________________________________________________\n",
            "block2_conv1 (Conv2D)        (None, 112, 112, 128)     73856     \n",
            "_________________________________________________________________\n",
            "block2_conv2 (Conv2D)        (None, 112, 112, 128)     147584    \n",
            "_________________________________________________________________\n",
            "block2_pool (MaxPooling2D)   (None, 56, 56, 128)       0         \n",
            "_________________________________________________________________\n",
            "block3_conv1 (Conv2D)        (None, 56, 56, 256)       295168    \n",
            "_________________________________________________________________\n",
            "block3_conv2 (Conv2D)        (None, 56, 56, 256)       590080    \n",
            "_________________________________________________________________\n",
            "block3_conv3 (Conv2D)        (None, 56, 56, 256)       590080    \n",
            "_________________________________________________________________\n",
            "block3_pool (MaxPooling2D)   (None, 28, 28, 256)       0         \n",
            "_________________________________________________________________\n",
            "block4_conv1 (Conv2D)        (None, 28, 28, 512)       1180160   \n",
            "_________________________________________________________________\n",
            "block4_conv2 (Conv2D)        (None, 28, 28, 512)       2359808   \n",
            "_________________________________________________________________\n",
            "block4_conv3 (Conv2D)        (None, 28, 28, 512)       2359808   \n",
            "_________________________________________________________________\n",
            "block4_pool (MaxPooling2D)   (None, 14, 14, 512)       0         \n",
            "_________________________________________________________________\n",
            "block5_conv1 (Conv2D)        (None, 14, 14, 512)       2359808   \n",
            "_________________________________________________________________\n",
            "block5_conv2 (Conv2D)        (None, 14, 14, 512)       2359808   \n",
            "_________________________________________________________________\n",
            "block5_conv3 (Conv2D)        (None, 14, 14, 512)       2359808   \n",
            "_________________________________________________________________\n",
            "block5_pool (MaxPooling2D)   (None, 7, 7, 512)         0         \n",
            "_________________________________________________________________\n",
            "flatten (Flatten)            (None, 25088)             0         \n",
            "_________________________________________________________________\n",
            "fc1 (Dense)                  (None, 4096)              102764544 \n",
            "_________________________________________________________________\n",
            "fc2 (Dense)                  (None, 4096)              16781312  \n",
            "_________________________________________________________________\n",
            "predictions (Dense)          (None, 1000)              4097000   \n",
            "=================================================================\n",
            "Total params: 138,357,544\n",
            "Trainable params: 138,357,544\n",
            "Non-trainable params: 0\n",
            "_________________________________________________________________\n"
          ]
        }
      ],
      "source": [
        "model.summary()"
      ]
    },
    {
      "cell_type": "markdown",
      "metadata": {
        "id": "S6Hxq_tRtP9J"
      },
      "source": [
        "We can see that the last convolutional layer is called 'block5_pool' so we use Keras to get a reference to that layer."
      ]
    },
    {
      "cell_type": "code",
      "execution_count": null,
      "metadata": {
        "id": "-v0Dki8itP9J"
      },
      "outputs": [],
      "source": [
        "transfer_layer = model.get_layer('block5_pool')"
      ]
    },
    {
      "cell_type": "markdown",
      "metadata": {
        "id": "l0-D2bHTtP9J"
      },
      "source": [
        "We refer to this layer as the Transfer Layer because its output will be re-routed to our new fully-connected neural network which will do the classification for the Knifey-Spoony dataset.\n",
        "\n",
        "The output of the transfer layer has the following shape:"
      ]
    },
    {
      "cell_type": "code",
      "execution_count": null,
      "metadata": {
        "id": "0jwg7MYetP9J",
        "outputId": "6c055db4-66f2-4a16-b012-08fe5f688005"
      },
      "outputs": [
        {
          "data": {
            "text/plain": [
              "<tf.Tensor 'block5_pool/Identity:0' shape=(None, 7, 7, 512) dtype=float32>"
            ]
          },
          "execution_count": 40,
          "metadata": {},
          "output_type": "execute_result"
        }
      ],
      "source": [
        "transfer_layer.output"
      ]
    },
    {
      "cell_type": "markdown",
      "metadata": {
        "id": "L66Esz5etP9J"
      },
      "source": [
        "Using the Keras API it is very simple to create a new model. First we take the part of the VGG16 model from its input-layer to the output of the transfer-layer. We may call this the convolutional model, because it consists of all the convolutional layers from the VGG16 model."
      ]
    },
    {
      "cell_type": "code",
      "execution_count": null,
      "metadata": {
        "id": "_ZpWoGurtP9J"
      },
      "outputs": [],
      "source": [
        "conv_model = Model(inputs=model.input,\n",
        "                   outputs=transfer_layer.output)"
      ]
    },
    {
      "cell_type": "markdown",
      "metadata": {
        "id": "QOhepAnktP9J"
      },
      "source": [
        "We can then use Keras to build a new model on top of this."
      ]
    },
    {
      "cell_type": "code",
      "execution_count": null,
      "metadata": {
        "scrolled": true,
        "id": "K8pwT5UFtP9J"
      },
      "outputs": [],
      "source": [
        "# Start a new Keras Sequential model.\n",
        "new_model = Sequential()\n",
        "\n",
        "# Add the convolutional part of the VGG16 model from above.\n",
        "new_model.add(conv_model)\n",
        "\n",
        "# Flatten the output of the VGG16 model because it is from a\n",
        "# convolutional layer.\n",
        "new_model.add(Flatten())\n",
        "\n",
        "# Add a dense (aka. fully-connected) layer.\n",
        "# This is for combining features that the VGG16 model has\n",
        "# recognized in the image.\n",
        "new_model.add(Dense(1024, activation='relu'))\n",
        "\n",
        "# Add a dropout-layer which may prevent overfitting and\n",
        "# improve generalization ability to unseen data e.g. the test-set.\n",
        "new_model.add(Dropout(0.5))\n",
        "\n",
        "# Add the final layer for the actual classification.\n",
        "new_model.add(Dense(num_classes, activation='softmax'))"
      ]
    },
    {
      "cell_type": "markdown",
      "metadata": {
        "id": "xK6tJlPstP9K"
      },
      "source": [
        "We use the Adam optimizer with a fairly low learning-rate. The learning-rate could perhaps be larger. But if you try and train more layers of the original VGG16 model, then the learning-rate should be quite low otherwise the pre-trained weights of the VGG16 model will be distorted and it will be unable to learn."
      ]
    },
    {
      "cell_type": "code",
      "execution_count": null,
      "metadata": {
        "id": "0hCMejaytP9K"
      },
      "outputs": [],
      "source": [
        "optimizer = Adam(lr=1e-5)"
      ]
    },
    {
      "cell_type": "markdown",
      "metadata": {
        "id": "kdtB7sThtP9K"
      },
      "source": [
        "We have 4 classes in the  dataset so Keras needs to use this loss-function."
      ]
    },
    {
      "cell_type": "code",
      "execution_count": null,
      "metadata": {
        "id": "tVrcycxNtP9K"
      },
      "outputs": [],
      "source": [
        "loss = 'categorical_crossentropy'"
      ]
    },
    {
      "cell_type": "markdown",
      "metadata": {
        "id": "g5_ly9TmtP9K"
      },
      "source": [
        "The only performance metric we are interested in is the classification accuracy."
      ]
    },
    {
      "cell_type": "code",
      "execution_count": null,
      "metadata": {
        "id": "7AwSle2ntP9K"
      },
      "outputs": [],
      "source": [
        "metrics = ['categorical_accuracy']"
      ]
    },
    {
      "cell_type": "markdown",
      "metadata": {
        "id": "s-uYqj6mtP9K"
      },
      "source": [
        "Helper-function for printing whether a layer in the VGG16 model should be trained."
      ]
    },
    {
      "cell_type": "code",
      "execution_count": null,
      "metadata": {
        "id": "R6qVbVWetP9L"
      },
      "outputs": [],
      "source": [
        "def print_layer_trainable():\n",
        "    for layer in conv_model.layers:\n",
        "        print(\"{0}:\\t{1}\".format(layer.trainable, layer.name))"
      ]
    },
    {
      "cell_type": "markdown",
      "metadata": {
        "id": "Vfrn76GdtP9L"
      },
      "source": [
        "By default all the layers of the VGG16 model are trainable."
      ]
    },
    {
      "cell_type": "code",
      "execution_count": null,
      "metadata": {
        "scrolled": true,
        "id": "6jYzjwbttP9L",
        "outputId": "79154412-5cac-47e4-c607-9f08405cf9e0"
      },
      "outputs": [
        {
          "name": "stdout",
          "output_type": "stream",
          "text": [
            "True:\tinput_1\n",
            "True:\tblock1_conv1\n",
            "True:\tblock1_conv2\n",
            "True:\tblock1_pool\n",
            "True:\tblock2_conv1\n",
            "True:\tblock2_conv2\n",
            "True:\tblock2_pool\n",
            "True:\tblock3_conv1\n",
            "True:\tblock3_conv2\n",
            "True:\tblock3_conv3\n",
            "True:\tblock3_pool\n",
            "True:\tblock4_conv1\n",
            "True:\tblock4_conv2\n",
            "True:\tblock4_conv3\n",
            "True:\tblock4_pool\n",
            "True:\tblock5_conv1\n",
            "True:\tblock5_conv2\n",
            "True:\tblock5_conv3\n",
            "True:\tblock5_pool\n"
          ]
        }
      ],
      "source": [
        "print_layer_trainable()"
      ]
    },
    {
      "cell_type": "markdown",
      "metadata": {
        "id": "4pMe75j0tP9L"
      },
      "source": [
        "In Transfer Learning we are initially only interested in reusing the pre-trained VGG16 model as it is, so we will disable training for all its layers."
      ]
    },
    {
      "cell_type": "code",
      "execution_count": null,
      "metadata": {
        "id": "M2faZrdxtP9L"
      },
      "outputs": [],
      "source": [
        "conv_model.trainable = False"
      ]
    },
    {
      "cell_type": "code",
      "execution_count": null,
      "metadata": {
        "id": "4DT6bi1_tP9L"
      },
      "outputs": [],
      "source": [
        "for layer in conv_model.layers:\n",
        "    layer.trainable = False"
      ]
    },
    {
      "cell_type": "code",
      "execution_count": null,
      "metadata": {
        "id": "q6hD38cQtP9M",
        "outputId": "26b389b6-7561-4ac8-a3ca-19020d13aac7"
      },
      "outputs": [
        {
          "name": "stdout",
          "output_type": "stream",
          "text": [
            "False:\tinput_1\n",
            "False:\tblock1_conv1\n",
            "False:\tblock1_conv2\n",
            "False:\tblock1_pool\n",
            "False:\tblock2_conv1\n",
            "False:\tblock2_conv2\n",
            "False:\tblock2_pool\n",
            "False:\tblock3_conv1\n",
            "False:\tblock3_conv2\n",
            "False:\tblock3_conv3\n",
            "False:\tblock3_pool\n",
            "False:\tblock4_conv1\n",
            "False:\tblock4_conv2\n",
            "False:\tblock4_conv3\n",
            "False:\tblock4_pool\n",
            "False:\tblock5_conv1\n",
            "False:\tblock5_conv2\n",
            "False:\tblock5_conv3\n",
            "False:\tblock5_pool\n"
          ]
        }
      ],
      "source": [
        "print_layer_trainable()"
      ]
    },
    {
      "cell_type": "markdown",
      "metadata": {
        "id": "vq_zXksdtP9M"
      },
      "source": [
        "Once we have changed whether the model's layers are trainable, we need to compile the model for the changes to take effect."
      ]
    },
    {
      "cell_type": "code",
      "execution_count": null,
      "metadata": {
        "id": "LFc7RUIJtP9M"
      },
      "outputs": [],
      "source": [
        "new_model.compile(optimizer=optimizer, loss=loss, metrics=metrics)"
      ]
    },
    {
      "cell_type": "markdown",
      "metadata": {
        "id": "og7EJjnXtP9M"
      },
      "source": [
        "An epoch normally means one full processing of the training-set. But the data-generator that we created above, will produce batches of training-data for eternity. So we need to define the number of steps we want to run for each \"epoch\" and this number gets multiplied by the batch-size defined above. In this case we have 100 steps per epoch and a batch-size of 20, so the \"epoch\" consists of 2000 random images from the training-set. We run 20 such \"epochs\".\n",
        "\n",
        "The reason these particular numbers were chosen, was because they seemed to be sufficient for training with this particular model and dataset, and it didn't take too much time, and resulted in 20 data-points (one for each \"epoch\") which can be plotted afterwards."
      ]
    },
    {
      "cell_type": "code",
      "execution_count": null,
      "metadata": {
        "id": "67TGc7IptP9M"
      },
      "outputs": [],
      "source": [
        "epochs = 20\n",
        "steps_per_epoch = 100"
      ]
    },
    {
      "cell_type": "markdown",
      "metadata": {
        "id": "k0QJv6R8tP9M"
      },
      "source": [
        "Training the new model is just a single function call in the Keras API. This takes about 6-7 minutes on a GTX 1070 GPU."
      ]
    },
    {
      "cell_type": "code",
      "execution_count": null,
      "metadata": {
        "scrolled": true,
        "id": "t0LWa6ektP9M",
        "outputId": "5308e18d-0a1e-4e1f-9fa1-cea59c206105"
      },
      "outputs": [
        {
          "name": "stdout",
          "output_type": "stream",
          "text": [
            "WARNING:tensorflow:sample_weight modes were coerced from\n",
            "  ...\n",
            "    to  \n",
            "  ['...']\n",
            "WARNING:tensorflow:sample_weight modes were coerced from\n",
            "  ...\n",
            "    to  \n",
            "  ['...']\n",
            "Train for 100 steps, validate for 26.5 steps\n",
            "Epoch 1/20\n",
            "100/100 [==============================] - 32s 322ms/step - loss: 1.1149 - categorical_accuracy: 0.4585 - val_loss: 0.8945 - val_categorical_accuracy: 0.5604\n",
            "Epoch 2/20\n",
            "100/100 [==============================] - 31s 309ms/step - loss: 0.9385 - categorical_accuracy: 0.5432 - val_loss: 0.7380 - val_categorical_accuracy: 0.7717\n",
            "Epoch 3/20\n",
            "100/100 [==============================] - 29s 285ms/step - loss: 0.8408 - categorical_accuracy: 0.6186 - val_loss: 0.6924 - val_categorical_accuracy: 0.7321\n",
            "Epoch 4/20\n",
            "100/100 [==============================] - 30s 299ms/step - loss: 0.7855 - categorical_accuracy: 0.6432 - val_loss: 0.6994 - val_categorical_accuracy: 0.7057\n",
            "Epoch 5/20\n",
            "100/100 [==============================] - 29s 294ms/step - loss: 0.7128 - categorical_accuracy: 0.6879 - val_loss: 0.7109 - val_categorical_accuracy: 0.6698\n",
            "Epoch 6/20\n",
            "100/100 [==============================] - 29s 286ms/step - loss: 0.6945 - categorical_accuracy: 0.7015 - val_loss: 0.6150 - val_categorical_accuracy: 0.7604\n",
            "Epoch 7/20\n",
            "100/100 [==============================] - 28s 282ms/step - loss: 0.6910 - categorical_accuracy: 0.7060 - val_loss: 0.6316 - val_categorical_accuracy: 0.7321\n",
            "Epoch 8/20\n",
            "100/100 [==============================] - 28s 284ms/step - loss: 0.6269 - categorical_accuracy: 0.7382 - val_loss: 0.5828 - val_categorical_accuracy: 0.7868\n",
            "Epoch 9/20\n",
            "100/100 [==============================] - 30s 300ms/step - loss: 0.6180 - categorical_accuracy: 0.7362 - val_loss: 0.6337 - val_categorical_accuracy: 0.7377\n",
            "Epoch 10/20\n",
            "100/100 [==============================] - 30s 297ms/step - loss: 0.5823 - categorical_accuracy: 0.7568 - val_loss: 0.5569 - val_categorical_accuracy: 0.7868\n",
            "Epoch 11/20\n",
            "100/100 [==============================] - 30s 295ms/step - loss: 0.5969 - categorical_accuracy: 0.7455 - val_loss: 0.6298 - val_categorical_accuracy: 0.7340\n",
            "Epoch 12/20\n",
            "100/100 [==============================] - 29s 289ms/step - loss: 0.5516 - categorical_accuracy: 0.7704 - val_loss: 0.5804 - val_categorical_accuracy: 0.7566\n",
            "Epoch 13/20\n",
            "100/100 [==============================] - 30s 297ms/step - loss: 0.5514 - categorical_accuracy: 0.7770 - val_loss: 0.5879 - val_categorical_accuracy: 0.7453\n",
            "Epoch 14/20\n",
            "100/100 [==============================] - 33s 326ms/step - loss: 0.5239 - categorical_accuracy: 0.7830 - val_loss: 0.5448 - val_categorical_accuracy: 0.7849\n",
            "Epoch 15/20\n",
            "100/100 [==============================] - 32s 325ms/step - loss: 0.5367 - categorical_accuracy: 0.7760 - val_loss: 0.6596 - val_categorical_accuracy: 0.7226\n",
            "Epoch 16/20\n",
            "100/100 [==============================] - 28s 282ms/step - loss: 0.5155 - categorical_accuracy: 0.7860 - val_loss: 0.5385 - val_categorical_accuracy: 0.7755\n",
            "Epoch 17/20\n",
            "100/100 [==============================] - 29s 289ms/step - loss: 0.5058 - categorical_accuracy: 0.7889 - val_loss: 0.6200 - val_categorical_accuracy: 0.7340\n",
            "Epoch 18/20\n",
            "100/100 [==============================] - 28s 283ms/step - loss: 0.4925 - categorical_accuracy: 0.8030 - val_loss: 0.6469 - val_categorical_accuracy: 0.7151\n",
            "Epoch 19/20\n",
            "100/100 [==============================] - 31s 312ms/step - loss: 0.4681 - categorical_accuracy: 0.8145 - val_loss: 0.7350 - val_categorical_accuracy: 0.6906\n",
            "Epoch 20/20\n",
            "100/100 [==============================] - 31s 307ms/step - loss: 0.4743 - categorical_accuracy: 0.8045 - val_loss: 0.5995 - val_categorical_accuracy: 0.7377\n"
          ]
        }
      ],
      "source": [
        "history = new_model.fit(x=generator_train,\n",
        "                        epochs=epochs,\n",
        "                        steps_per_epoch=steps_per_epoch,\n",
        "                        class_weight=class_weight,\n",
        "                        validation_data=generator_test,\n",
        "                        validation_steps=steps_test)"
      ]
    },
    {
      "cell_type": "markdown",
      "metadata": {
        "id": "NL08RLLutP9M"
      },
      "source": [
        "Keras records the performance metrics at the end of each \"epoch\" so they can be plotted later. This shows that the loss-value for the training-set generally decreased during training, but the loss-values for the test-set were a bit more erratic. Similarly, the classification accuracy generally improved on the training-set while it was a bit more erratic on the test-set."
      ]
    },
    {
      "cell_type": "code",
      "execution_count": null,
      "metadata": {
        "scrolled": true,
        "id": "Z3S5cDpftP9N",
        "outputId": "127aeb87-5a67-4b23-8afb-d0e4e856fe65"
      },
      "outputs": [
        {
          "data": {
            "image/png": "[encoded data removed]",
            "text/plain": [
              "<Figure size 432x288 with 1 Axes>"
            ]
          },
          "metadata": {
            "needs_background": "light"
          },
          "output_type": "display_data"
        }
      ],
      "source": [
        "plot_training_history(history)"
      ]
    },
    {
      "cell_type": "markdown",
      "metadata": {
        "id": "NjhI8062tP9N"
      },
      "source": [
        "After training we can also evaluate the new model's performance on the test-set using a single function call in the Keras API."
      ]
    },
    {
      "cell_type": "code",
      "execution_count": null,
      "metadata": {
        "scrolled": true,
        "id": "7K68PS6VtP9N",
        "outputId": "33c924d7-2b9f-4fe1-91f0-82545ec63ff6"
      },
      "outputs": [
        {
          "name": "stdout",
          "output_type": "stream",
          "text": [
            "WARNING:tensorflow:sample_weight modes were coerced from\n",
            "  ...\n",
            "    to  \n",
            "  ['...']\n",
            "27/26 [==============================] - 4s 156ms/step - loss: 0.5888 - categorical_accuracy: 0.7377\n"
          ]
        }
      ],
      "source": [
        "result = new_model.evaluate(generator_test, steps=steps_test)"
      ]
    },
    {
      "cell_type": "code",
      "execution_count": null,
      "metadata": {
        "scrolled": true,
        "id": "34RVM3-utP9N",
        "outputId": "b9e4eb08-d8db-41ad-863a-74cd7059e478"
      },
      "outputs": [
        {
          "name": "stdout",
          "output_type": "stream",
          "text": [
            "Test-set classification accuracy: 73.77%\n"
          ]
        }
      ],
      "source": [
        "print(\"Test-set classification accuracy: {0:.2%}\".format(result[1]))"
      ]
    },
    {
      "cell_type": "markdown",
      "metadata": {
        "id": "YGZrzh4KtP9N"
      },
      "source": [
        "We can plot some examples of mis-classified images from the test-set. Some of these images are also difficult for a human to classify.\n",
        "\n",
        "The confusion matrix shows that the new model is especially having problems classifying the forky-class."
      ]
    },
    {
      "cell_type": "markdown",
      "metadata": {
        "id": "r7sH0UGDtP9N"
      },
      "source": [
        "## Fine-Tuning\n",
        "\n",
        "In Transfer Learning the original pre-trained model is locked or frozen during training of the new classifier. This ensures that the weights of the original VGG16 model will not change. One advantage of this, is that the training of the new classifier will not propagate large gradients back through the VGG16 model that may either distort its weights or cause overfitting to the new dataset.\n",
        "\n",
        "But once the new classifier has been trained we can try and gently fine-tune some of the deeper layers in the VGG16 model as well. We call this Fine-Tuning.\n",
        "\n",
        "It is a bit unclear whether Keras uses the `trainable` boolean in each layer of the original VGG16 model or if it is overrided by the `trainable` boolean in the \"meta-layer\" we call `conv_layer`. So we will enable the `trainable` boolean for both `conv_layer` and all the relevant layers in the original VGG16 model."
      ]
    },
    {
      "cell_type": "code",
      "execution_count": null,
      "metadata": {
        "id": "RZFs2HTntP9N"
      },
      "outputs": [],
      "source": [
        "conv_model.trainable = True"
      ]
    },
    {
      "cell_type": "markdown",
      "metadata": {
        "id": "7D0m4kMKtP9O"
      },
      "source": [
        "We want to train the last two convolutional layers whose names contain 'block5' or 'block4'."
      ]
    },
    {
      "cell_type": "code",
      "execution_count": null,
      "metadata": {
        "id": "9nRNV8WJtP9O"
      },
      "outputs": [],
      "source": [
        "for layer in conv_model.layers:\n",
        "    # Boolean whether this layer is trainable.\n",
        "    trainable = ('block5' in layer.name or 'block4' in layer.name)\n",
        "\n",
        "    # Set the layer's bool.\n",
        "    layer.trainable = trainable"
      ]
    },
    {
      "cell_type": "markdown",
      "metadata": {
        "id": "HtMeu8vMtP9O"
      },
      "source": [
        "We can check that this has updated the `trainable` boolean for the relevant layers."
      ]
    },
    {
      "cell_type": "code",
      "execution_count": null,
      "metadata": {
        "id": "q5mNuFtntP9O",
        "outputId": "da941e08-5a0c-4fb1-a8c3-e594128fe739"
      },
      "outputs": [
        {
          "name": "stdout",
          "output_type": "stream",
          "text": [
            "False:\tinput_1\n",
            "False:\tblock1_conv1\n",
            "False:\tblock1_conv2\n",
            "False:\tblock1_pool\n",
            "False:\tblock2_conv1\n",
            "False:\tblock2_conv2\n",
            "False:\tblock2_pool\n",
            "False:\tblock3_conv1\n",
            "False:\tblock3_conv2\n",
            "False:\tblock3_conv3\n",
            "False:\tblock3_pool\n",
            "True:\tblock4_conv1\n",
            "True:\tblock4_conv2\n",
            "True:\tblock4_conv3\n",
            "True:\tblock4_pool\n",
            "True:\tblock5_conv1\n",
            "True:\tblock5_conv2\n",
            "True:\tblock5_conv3\n",
            "True:\tblock5_pool\n"
          ]
        }
      ],
      "source": [
        "print_layer_trainable()"
      ]
    },
    {
      "cell_type": "markdown",
      "metadata": {
        "id": "AOcByeLftP9O"
      },
      "source": [
        "We will use a lower learning-rate for the fine-tuning so the weights of the original VGG16 model only get changed slowly."
      ]
    },
    {
      "cell_type": "code",
      "execution_count": null,
      "metadata": {
        "id": "JQRsuae2tP9O"
      },
      "outputs": [],
      "source": [
        "optimizer_fine = Adam(lr=1e-7)"
      ]
    },
    {
      "cell_type": "markdown",
      "metadata": {
        "id": "OE1QgmlptP9O"
      },
      "source": [
        "Because we have defined a new optimizer and have changed the `trainable` boolean for many of the layers in the model, we need to recompile the model so the changes can take effect before we continue training."
      ]
    },
    {
      "cell_type": "code",
      "execution_count": null,
      "metadata": {
        "id": "JHc7ZscktP9O"
      },
      "outputs": [],
      "source": [
        "new_model.compile(optimizer=optimizer_fine, loss=loss, metrics=metrics)"
      ]
    },
    {
      "cell_type": "markdown",
      "metadata": {
        "id": "coYhWooutP9O"
      },
      "source": [
        "The training can then be continued so as to fine-tune the VGG16 model along with the new classifier."
      ]
    },
    {
      "cell_type": "code",
      "execution_count": null,
      "metadata": {
        "scrolled": true,
        "id": "IjBuuVK0tP9O",
        "outputId": "8ce964c6-fc1e-4d3c-832f-92d09f13f29a"
      },
      "outputs": [
        {
          "name": "stdout",
          "output_type": "stream",
          "text": [
            "WARNING:tensorflow:sample_weight modes were coerced from\n",
            "  ...\n",
            "    to  \n",
            "  ['...']\n",
            "WARNING:tensorflow:sample_weight modes were coerced from\n",
            "  ...\n",
            "    to  \n",
            "  ['...']\n",
            "Train for 100 steps, validate for 26.5 steps\n",
            "Epoch 1/20\n",
            "100/100 [==============================] - 34s 339ms/step - loss: 0.4605 - categorical_accuracy: 0.8211 - val_loss: 0.5776 - val_categorical_accuracy: 0.7566\n",
            "Epoch 2/20\n",
            "100/100 [==============================] - 38s 384ms/step - loss: 0.4683 - categorical_accuracy: 0.8175 - val_loss: 0.5600 - val_categorical_accuracy: 0.7604\n",
            "Epoch 3/20\n",
            "100/100 [==============================] - 36s 357ms/step - loss: 0.4643 - categorical_accuracy: 0.8095 - val_loss: 0.5748 - val_categorical_accuracy: 0.7528\n",
            "Epoch 4/20\n",
            "100/100 [==============================] - 37s 371ms/step - loss: 0.4368 - categorical_accuracy: 0.8236 - val_loss: 0.5613 - val_categorical_accuracy: 0.7604\n",
            "Epoch 5/20\n",
            "100/100 [==============================] - 37s 367ms/step - loss: 0.4140 - categorical_accuracy: 0.8317 - val_loss: 0.5490 - val_categorical_accuracy: 0.7642\n",
            "Epoch 6/20\n",
            "100/100 [==============================] - 44s 439ms/step - loss: 0.4456 - categorical_accuracy: 0.8155 - val_loss: 0.5488 - val_categorical_accuracy: 0.7660\n",
            "Epoch 7/20\n",
            "100/100 [==============================] - 45s 454ms/step - loss: 0.4318 - categorical_accuracy: 0.8352 - val_loss: 0.5505 - val_categorical_accuracy: 0.7660\n",
            "Epoch 8/20\n",
            "100/100 [==============================] - 41s 409ms/step - loss: 0.4283 - categorical_accuracy: 0.8265 - val_loss: 0.5580 - val_categorical_accuracy: 0.7604\n",
            "Epoch 9/20\n",
            "100/100 [==============================] - 43s 427ms/step - loss: 0.4197 - categorical_accuracy: 0.8392 - val_loss: 0.5496 - val_categorical_accuracy: 0.7679\n",
            "Epoch 10/20\n",
            "100/100 [==============================] - 43s 431ms/step - loss: 0.4138 - categorical_accuracy: 0.8312 - val_loss: 0.5535 - val_categorical_accuracy: 0.7679\n",
            "Epoch 11/20\n",
            "100/100 [==============================] - 38s 378ms/step - loss: 0.4373 - categorical_accuracy: 0.8332 - val_loss: 0.5449 - val_categorical_accuracy: 0.7679\n",
            "Epoch 12/20\n",
            "100/100 [==============================] - 25s 252ms/step - loss: 0.4046 - categorical_accuracy: 0.8470 - val_loss: 0.5396 - val_categorical_accuracy: 0.7698\n",
            "Epoch 13/20\n",
            "100/100 [==============================] - 23s 234ms/step - loss: 0.4014 - categorical_accuracy: 0.8442 - val_loss: 0.5400 - val_categorical_accuracy: 0.7717\n",
            "Epoch 14/20\n",
            "100/100 [==============================] - 24s 237ms/step - loss: 0.4141 - categorical_accuracy: 0.8365 - val_loss: 0.5473 - val_categorical_accuracy: 0.7679\n",
            "Epoch 15/20\n",
            "100/100 [==============================] - 23s 231ms/step - loss: 0.4117 - categorical_accuracy: 0.8307 - val_loss: 0.5436 - val_categorical_accuracy: 0.7698\n",
            "Epoch 16/20\n",
            "100/100 [==============================] - 23s 229ms/step - loss: 0.3826 - categorical_accuracy: 0.8472 - val_loss: 0.5549 - val_categorical_accuracy: 0.7623\n",
            "Epoch 17/20\n",
            "100/100 [==============================] - 23s 228ms/step - loss: 0.3979 - categorical_accuracy: 0.8442 - val_loss: 0.5402 - val_categorical_accuracy: 0.7698\n",
            "Epoch 18/20\n",
            "100/100 [==============================] - 24s 239ms/step - loss: 0.3941 - categorical_accuracy: 0.8447 - val_loss: 0.5313 - val_categorical_accuracy: 0.7774\n",
            "Epoch 19/20\n",
            "100/100 [==============================] - 24s 244ms/step - loss: 0.3956 - categorical_accuracy: 0.8385 - val_loss: 0.5407 - val_categorical_accuracy: 0.7698\n",
            "Epoch 20/20\n",
            "100/100 [==============================] - 24s 240ms/step - loss: 0.4037 - categorical_accuracy: 0.8281 - val_loss: 0.5352 - val_categorical_accuracy: 0.7755\n"
          ]
        }
      ],
      "source": [
        "history = new_model.fit(x=generator_train,\n",
        "                        epochs=epochs,\n",
        "                        steps_per_epoch=steps_per_epoch,\n",
        "                        class_weight=class_weight,\n",
        "                        validation_data=generator_test,\n",
        "                        validation_steps=steps_test)"
      ]
    },
    {
      "cell_type": "markdown",
      "metadata": {
        "id": "N4l5Hf2LtP9O"
      },
      "source": [
        "We can then plot the loss-values and classification accuracy from the training. Depending on the dataset, the original model, the new classifier, and hyper-parameters such as the learning-rate, this may improve the classification accuracies on both training- and test-set, or it may improve on the training-set but worsen it for the test-set in case of overfitting. It may require some experimentation with the parameters to get this right."
      ]
    },
    {
      "cell_type": "code",
      "execution_count": null,
      "metadata": {
        "id": "53jD7h3atP9P",
        "outputId": "e9b3f800-64cb-41f8-98e5-bb2f1bb51a1d"
      },
      "outputs": [
        {
          "data": {
            "image/png": "[encoded data removed]",
            "text/plain": [
              "<Figure size 432x288 with 1 Axes>"
            ]
          },
          "metadata": {
            "needs_background": "light"
          },
          "output_type": "display_data"
        }
      ],
      "source": [
        "plot_training_history(history)"
      ]
    },
    {
      "cell_type": "code",
      "execution_count": null,
      "metadata": {
        "id": "_MsJNoLbtP9P",
        "outputId": "0606cf3a-a5e4-487e-a438-0b3d4cc2a1cb"
      },
      "outputs": [
        {
          "name": "stdout",
          "output_type": "stream",
          "text": [
            "WARNING:tensorflow:sample_weight modes were coerced from\n",
            "  ...\n",
            "    to  \n",
            "  ['...']\n",
            "27/26 [==============================] - 3s 118ms/step - loss: 0.5256 - categorical_accuracy: 0.7755\n"
          ]
        }
      ],
      "source": [
        "result = new_model.evaluate(generator_test, steps=steps_test)"
      ]
    },
    {
      "cell_type": "code",
      "execution_count": null,
      "metadata": {
        "id": "C1hxE30otP9P",
        "outputId": "8a81a660-27fb-45e8-b080-d7ea315c6e27"
      },
      "outputs": [
        {
          "name": "stdout",
          "output_type": "stream",
          "text": [
            "Test-set classification accuracy: 77.55%\n"
          ]
        }
      ],
      "source": [
        "print(\"Test-set classification accuracy: {0:.2%}\".format(result[1]))"
      ]
    }
  ],
  "metadata": {
    "anaconda-cloud": {},
    "kernelspec": {
      "display_name": "Python 3",
      "language": "python",
      "name": "python3"
    },
    "language_info": {
      "codemirror_mode": {
        "name": "ipython",
        "version": 3
      },
      "file_extension": ".py",
      "mimetype": "text/x-python",
      "name": "python",
      "nbconvert_exporter": "python",
      "pygments_lexer": "ipython3",
      "version": "3.6.10"
    },
    "colab": {
      "provenance": []
    }
  },
  "nbformat": 4,
  "nbformat_minor": 0
}